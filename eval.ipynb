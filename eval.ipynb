{
 "cells": [
  {
   "cell_type": "code",
   "execution_count": null,
   "metadata": {},
   "outputs": [],
   "source": [
    "import os\n",
    "from os.path import join\n",
    "import numpy as np \n",
    "import torch\n",
    "import pickle\n",
    "from tqdm import *\n",
    "import manotorch\n",
    "from manotorch.manolayer import ManoLayer\n",
    "import trimesh\n",
    "from scipy.spatial import KDTree\n",
    "obj_path = '/root/code/seqs/object/'\n",
    "root_path = '/root/code/seqs/0303_data/'\n",
    "res_path = '/data/nas_24/motionfm/outputs/gazehoi_stage0_1obj/28-04-2025/10-04-21/samples/results.npy'\n",
    "# model_name = res_path.split('/')[-2]\n",
    "# seqs = sorted(os.listdir(res_path))\n",
    "# assert len(seqs) == 275\n",
    "# # obj_mode = 'obj_all'\n",
    "# hand_mode = 'no_refine'\n",
    "# manolayer = ManoLayer(mano_assets_root='/root/code/CAMS/data/mano_assets/mano',side='right')\n",
    "# hand_faces = manolayer.th_faces"
   ]
  },
  {
   "cell_type": "code",
   "execution_count": null,
   "metadata": {},
   "outputs": [],
   "source": []
  }
 ],
 "metadata": {
  "kernelspec": {
   "display_name": "mdm",
   "language": "python",
   "name": "python3"
  },
  "language_info": {
   "name": "python",
   "version": "3.7.16"
  },
  "orig_nbformat": 4
 },
 "nbformat": 4,
 "nbformat_minor": 2
}
